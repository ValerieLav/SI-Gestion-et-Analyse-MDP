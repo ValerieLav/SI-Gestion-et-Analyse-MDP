{
 "cells": [
  {
   "cell_type": "code",
   "execution_count": 1,
   "metadata": {},
   "outputs": [],
   "source": [
    "import pandas as pd\n",
    "import numpy as np"
   ]
  },
  {
   "cell_type": "code",
   "execution_count": 6,
   "metadata": {},
   "outputs": [
    {
     "name": "stdout",
     "output_type": "stream",
     "text": [
      "               password\n",
      "0                 12345\n",
      "1             123456789\n",
      "2              password\n",
      "3              iloveyou\n",
      "4              princess\n",
      "...                 ...\n",
      "14316873              1\n",
      "14316874        ie168\n",
      "14316875    abygurl69\n",
      "14316876       a6_123\n",
      "14316877  \u0004*\u00037Â¡Vamos!\u0003\n",
      "\n",
      "[14316522 rows x 1 columns]\n"
     ]
    }
   ],
   "source": [
    "#Changement de dataset\n",
    "df = pd.read_csv(r'C:\\Users\\kajan\\vscode\\ProjetM1Python\\rockyou.txt',\n",
    "                 on_bad_lines='skip',\n",
    "                 encoding='latin-1',)\n",
    "\n",
    "#set colums head\n",
    "df.columns = [\"password\"]\n",
    "\n",
    "#Suppresion des doublons\n",
    "df_clean = df.drop_duplicates()\n",
    "\n",
    "#Afficher résultat\n",
    "print(df_clean)"
   ]
  },
  {
   "cell_type": "code",
   "execution_count": null,
   "metadata": {},
   "outputs": [],
   "source": []
  },
  {
   "cell_type": "code",
   "execution_count": null,
   "metadata": {},
   "outputs": [],
   "source": []
  }
 ],
 "metadata": {
  "kernelspec": {
   "display_name": "Python 3",
   "language": "python",
   "name": "python3"
  },
  "language_info": {
   "codemirror_mode": {
    "name": "ipython",
    "version": 3
   },
   "file_extension": ".py",
   "mimetype": "text/x-python",
   "name": "python",
   "nbconvert_exporter": "python",
   "pygments_lexer": "ipython3",
   "version": "3.11.9"
  }
 },
 "nbformat": 4,
 "nbformat_minor": 2
}
