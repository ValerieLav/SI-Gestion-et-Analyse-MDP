{
 "cells": [
  {
   "cell_type": "code",
   "execution_count": 44,
   "metadata": {},
   "outputs": [],
   "source": [
    "from sklearn.neighbors import KNeighborsClassifier"
   ]
  },
  {
   "cell_type": "code",
   "execution_count": 45,
   "metadata": {},
   "outputs": [],
   "source": [
    "import pandas as panda"
   ]
  },
  {
   "cell_type": "code",
   "execution_count": 58,
   "metadata": {},
   "outputs": [
    {
     "name": "stdout",
     "output_type": "stream",
     "text": [
      "Bibliothèque random importée avec succès.\n",
      "Valeur test générée : 8\n"
     ]
    }
   ],
   "source": [
    "import random\n",
    "\n",
    "# Essayer d'utiliser une fonction de la bibliothèque random\n",
    "try:\n",
    "    test_value = random.randint(1, 10)  # Génère un nombre entre 1 et 10\n",
    "    print(\"Bibliothèque random importée avec succès.\")\n",
    "    print(\"Valeur test générée :\", test_value)\n",
    "except NameError as e:\n",
    "    print(\"Erreur : random n'a pas été importée correctement.\")\n"
   ]
  },
  {
   "cell_type": "code",
   "execution_count": 60,
   "metadata": {},
   "outputs": [],
   "source": [
    "lowercase = \"abcdefghijklmnopqrstuvwxyz\"\n",
    "uppercase = \"ABCDEFGHIJKLMNOPQRSTUVWXYZ\"\n",
    "digits = \"0123456789\"\n",
    "special_chars = \"!@#$%^&*()-_=+\"\n"
   ]
  },
  {
   "cell_type": "code",
   "execution_count": 61,
   "metadata": {},
   "outputs": [],
   "source": [
    "def contains_common_patterns(password):\n",
    "    # Liste de motifs communs à éviter dans les mots de passe\n",
    "    common_patterns = [\"1234\", \"abcd\", \"qwerty\", \"1111\", \"aaaa\"]\n",
    "\n",
    "    # Vérifier chaque motif dans la liste\n",
    "    for pattern in common_patterns:\n",
    "        if pattern in password:\n",
    "            return True  # Retourne True si un motif commun est trouvé\n",
    "\n",
    "    return False  # Retourne False si aucun motif commun n'est trouvé"
   ]
  },
  {
   "cell_type": "code",
   "execution_count": 50,
   "metadata": {},
   "outputs": [],
   "source": [
    "def generate_password(length):\n",
    "    if length < 4:\n",
    "        print(\"La longueur doit être d'au moins 4 caractères pour inclure tous les types de caractères.\")\n",
    "        return None\n",
    "\n",
    "    # Sélectionner un caractère de chaque ensemble pour garantir la diversité\n",
    "    password = [\n",
    "        random.choice(lowercase),\n",
    "        random.choice(uppercase),\n",
    "        random.choice(digits),\n",
    "        random.choice(special_chars)\n",
    "    ]\n",
    "\n",
    "    # Compléter le reste du mot de passe en sélectionnant aléatoirement parmi tous les ensembles\n",
    "    all_chars = lowercase + uppercase + digits + special_chars\n",
    "    password += random.choices(all_chars, k=length - 4)\n",
    "\n",
    "    # Mélanger les caractères pour éviter que l'ordre ne soit prévisible\n",
    "    random.shuffle(password)\n",
    "\n",
    "    # Convertir la liste en chaîne de caractères et la retourner\n",
    "    return ''.join(password)\n"
   ]
  },
  {
   "cell_type": "code",
   "execution_count": 63,
   "metadata": {},
   "outputs": [
    {
     "name": "stdout",
     "output_type": "stream",
     "text": [
      "Mot de passe généré : j&sgjSsv$q19kOB\n"
     ]
    }
   ],
   "source": [
    "# Exemple : Générer un mot de passe de 12 caractères\n",
    "length = random.randint(6,20)\n",
    "password = generate_password(length)\n",
    "if password:\n",
    "    print(\"Mot de passe généré :\", password)\n"
   ]
  },
  {
   "cell_type": "code",
   "execution_count": null,
   "metadata": {},
   "outputs": [],
   "source": []
  },
  {
   "cell_type": "markdown",
   "metadata": {},
   "source": []
  }
 ],
 "metadata": {
  "kernelspec": {
   "display_name": "Python 3",
   "language": "python",
   "name": "python3"
  },
  "language_info": {
   "codemirror_mode": {
    "name": "ipython",
    "version": 3
   },
   "file_extension": ".py",
   "mimetype": "text/x-python",
   "name": "python",
   "nbconvert_exporter": "python",
   "pygments_lexer": "ipython3",
   "version": "3.9.6"
  }
 },
 "nbformat": 4,
 "nbformat_minor": 2
}
