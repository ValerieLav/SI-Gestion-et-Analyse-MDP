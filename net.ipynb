{
 "cells": [
  {
   "cell_type": "markdown",
   "metadata": {},
   "source": [
    "# Gestion et Analyse de MdP"
   ]
  },
  {
   "cell_type": "code",
   "execution_count": 2,
   "metadata": {},
   "outputs": [],
   "source": [
    "import pandas as pd\n",
    "import numpy as np\n",
    "import random as rd"
   ]
  },
  {
   "cell_type": "markdown",
   "metadata": {},
   "source": [
    "##### Nettoyage du dataset\n",
    "\n",
    "dataFrame : rockyou.txt\n",
    "- Supprimer les doublons\n",
    "- Supprimer les espaces en début et fin de caractère\n",
    "- Supprimer les caractères indésirables\n",
    "- Limite de 6 à 128 caractère dans les MdP\n",
    "- Supprimer les MdP manquants\n",
    "- Limite de caractère valide\n",
    "- Suppression de MdP triviaux\n"
   ]
  },
  {
   "cell_type": "code",
   "execution_count": 3,
   "metadata": {},
   "outputs": [
    {
     "name": "stdout",
     "output_type": "stream",
     "text": [
      "         123456\n",
      "0         12345\n",
      "1     123456789\n",
      "2      password\n",
      "3      iloveyou\n",
      "4      princess\n",
      "...         ...\n",
      "9995     labeba\n",
      "9996      kupal\n",
      "9997  kittykat1\n",
      "9998     killah\n",
      "9999     kenjie\n",
      "\n",
      "[10000 rows x 1 columns]\n",
      "                 eddie\n",
      "0                zxcvb\n",
      "1            sarahjane\n",
      "2               ceejay\n",
      "3            sweetbaby\n",
      "4            panthers1\n",
      "...                ...\n",
      "9981          #1action\n",
      "9982            #1$tax\n",
      "9983  princessmary1985\n",
      "9984        !whatever!\n",
      "9985         !(*&4life\n",
      "\n",
      "[9986 rows x 1 columns]\n"
     ]
    }
   ],
   "source": [
    "#Chargement du dataset\n",
    "\n",
    "file_path = r'C:\\Users\\kajan\\vscode\\ProjetM1Python\\rockyou.txt'\n",
    "\n",
    "#Pour avoir les 10000 premieres lignes\n",
    "df = pd.read_csv(file_path,\n",
    "                 on_bad_lines='skip',\n",
    "                 encoding='latin-1',\n",
    "                 nrows=10000)\n",
    "\n",
    "\n",
    "\n",
    "#Pour les 10000 lignes aléatoires\n",
    "\n",
    "#Nombre de ligne dans le fichier\n",
    "n = sum(1 for line in open(file_path, encoding='latin-1'))\n",
    "#Nombre de lignes désirees\n",
    "s = 10000\n",
    "\n",
    "skip = sorted(rd.sample(range(n), n-s))\n",
    "df2 = pd.read_csv(file_path,\n",
    "                  on_bad_lines='skip',\n",
    "                  encoding=\"latin-1\",\n",
    "                  skiprows= skip)\n",
    "\n",
    "print(df)\n",
    "print(df2)"
   ]
  },
  {
   "cell_type": "code",
   "execution_count": 5,
   "metadata": {},
   "outputs": [
    {
     "name": "stdout",
     "output_type": "stream",
     "text": [
      "       password\n",
      "0      iloveyou\n",
      "1      princess\n",
      "2       rockyou\n",
      "3        abc123\n",
      "4        nicole\n",
      "...         ...\n",
      "9169    leandra\n",
      "9170     labeba\n",
      "9171  kittykat1\n",
      "9172     killah\n",
      "9173     kenjie\n",
      "\n",
      "[9174 rows x 1 columns]\n"
     ]
    }
   ],
   "source": [
    "#Définir un nom de colonne\n",
    "df.columns = [\"password\"]\n",
    "\n",
    "#Suppresion des doublons\n",
    "df_clean = df.drop_duplicates()\n",
    "\n",
    "#Supprimer les espaces en début et fin de chaine\n",
    "df_clean.loc[:,'password'] = df_clean['password'].str.strip()\n",
    "\n",
    "#Remplacer les NaN par chaine vide --> Non intérésant, supprime tout les caractère spéciaux\n",
    "#df2_clean.loc[:,'password'] = df2_clean['password'].str.replace(r'[^\\w\\s]', '', regex=True)\n",
    "\n",
    "#Filtrer les mdp de moins de 6 et au plus de 128 caractere\n",
    "df_clean = df_clean[df_clean['password'].str.len().between(6,128)]\n",
    "\n",
    "# Supprimer les mots de passe manquants\n",
    "df_clean = df_clean.dropna( subset=['password'])\n",
    "\n",
    "#Filtrer les caracter non autorisés\n",
    "invalides_chars = df_clean['password'].str.contains(r'[^a-zA-Z0-9!@#$%^&*()]')\n",
    "df_clean = df_clean[~invalides_chars]\n",
    "\n",
    "#Supprimer les mots de passe commun\n",
    "common_pwd = ['123456','password','admin','123456789', '1234567', '12345678']\n",
    "df_clean = df_clean[~df_clean['password'].isin(common_pwd)]\n",
    "\n",
    "df_clean = df_clean.reset_index(drop=True)\n",
    "\n",
    "#Afficher résultat\n",
    "print(df_clean)"
   ]
  },
  {
   "cell_type": "code",
   "execution_count": 6,
   "metadata": {},
   "outputs": [
    {
     "name": "stdout",
     "output_type": "stream",
     "text": [
      "              password\n",
      "0            sarahjane\n",
      "1               ceejay\n",
      "2            sweetbaby\n",
      "3            panthers1\n",
      "4            tangerine\n",
      "...                ...\n",
      "9342          #1action\n",
      "9343            #1$tax\n",
      "9344  princessmary1985\n",
      "9345        !whatever!\n",
      "9346         !(*&4life\n",
      "\n",
      "[9347 rows x 1 columns]\n"
     ]
    }
   ],
   "source": [
    "#Définir un nom de colonne\n",
    "df2.columns = [\"password\"]\n",
    "\n",
    "#Suppresion des doublons\n",
    "df2_clean = df2.drop_duplicates()\n",
    "\n",
    "#Supprimer les espaces en début et fin de chaine\n",
    "df2_clean.loc[:,'password'] = df2_clean['password'].str.strip()\n",
    "\n",
    "#Filtrer les mdp de moins de 6 et au plus de 128 caractere\n",
    "df2_clean = df2_clean[df2_clean['password'].str.len().between(6,128)]\n",
    "\n",
    "# Supprimer les mots de passe manquants\n",
    "df2_clean = df2_clean.dropna( subset=['password'])\n",
    "\n",
    "#Filtrer les caracter non autorisés\n",
    "invalides_chars = df2_clean['password'].str.contains(r'[^a-zA-Z0-9!@#$%^&*()]')\n",
    "df2_clean = df2_clean[~invalides_chars]\n",
    "\n",
    "#Supprimer les mots de passe commun\n",
    "common_pwd = ['123456','password','admin','123456789', '1234567', '12345678']\n",
    "df2_clean = df2_clean[~df2_clean['password'].isin(common_pwd)]\n",
    "\n",
    "df2_clean = df2_clean.reset_index(drop=True)\n",
    "\n",
    "#Afficher résultat\n",
    "print(df2_clean)"
   ]
  },
  {
   "cell_type": "markdown",
   "metadata": {},
   "source": [
    "##### Fonction Count"
   ]
  },
  {
   "cell_type": "code",
   "execution_count": 7,
   "metadata": {},
   "outputs": [],
   "source": [
    "def count_uppercase(pwd) :\n",
    "    c = 0\n",
    "    for char in pwd :\n",
    "        if char.isupper() :\n",
    "            c += 1\n",
    "    return c\n",
    "\n",
    "def count_lowercase(pwd) :\n",
    "    c = 0\n",
    "    for char in pwd :\n",
    "        if char.islower() :\n",
    "            c += 1\n",
    "    return c\n",
    "\n",
    "def count_digit(pwd) :\n",
    "    c = 0\n",
    "    for char in pwd :\n",
    "        if char.isdigit() :\n",
    "            c += 1\n",
    "    return c\n",
    "\n",
    "def count_special_char(pwd) :\n",
    "    return len(pwd) - ( count_digit(pwd) + \n",
    "                       count_lowercase(pwd) + \n",
    "                       count_uppercase(pwd) )\n",
    "    \n"
   ]
  },
  {
   "cell_type": "code",
   "execution_count": 8,
   "metadata": {},
   "outputs": [
    {
     "name": "stdout",
     "output_type": "stream",
     "text": [
      "myangel\n",
      "abc123\n",
      "7\n",
      "0\n",
      "7\n",
      "0\n",
      "0\n"
     ]
    }
   ],
   "source": [
    "print(df_clean['password'][1569])\n",
    "print(df_clean['password'][3])\n",
    "print(len(df_clean['password'][1569]))\n",
    "print(count_uppercase(df_clean['password'][1569]))\n",
    "print(count_lowercase(df_clean['password'][1569]))\n",
    "print(count_digit(df_clean['password'][1569]))\n",
    "print(count_digit(df_clean['password'][0]))"
   ]
  },
  {
   "cell_type": "code",
   "execution_count": null,
   "metadata": {},
   "outputs": [],
   "source": [
    "print(df_clean['password'][13696871])\n",
    "print(df_clean['password'][13696873])\n",
    "print(count_special_char(df_clean['password'][13696871]))\n",
    "print(count_special_char(df_clean['password'][13696873]))"
   ]
  },
  {
   "cell_type": "markdown",
   "metadata": {},
   "source": [
    "##### Modèle Supervisé"
   ]
  },
  {
   "cell_type": "code",
   "execution_count": 1,
   "metadata": {},
   "outputs": [],
   "source": [
    "from sklearn.model_selection import train_test_split\n",
    "from sklearn.preprocessing import StandardScaler\n",
    "from sklearn.neighbors import KNeighborsClassifier\n",
    "from sklearn.metrics import accuracy_score\n",
    "import matplotlib.pyplot as plt"
   ]
  },
  {
   "cell_type": "code",
   "execution_count": 9,
   "metadata": {},
   "outputs": [],
   "source": [
    "def def_strength(len, upper, lower, digit, spe):\n",
    "    s = 0\n",
    "    if len >= 6 :\n",
    "        s += 1\n",
    "    elif len >= 10 :\n",
    "        s += 2\n",
    "    if digit >= 1 :\n",
    "        s += 1\n",
    "    if spe >= 1 :\n",
    "        s += 1\n",
    "    if upper >= 1 :\n",
    "        s += 1\n",
    "    return s"
   ]
  },
  {
   "cell_type": "code",
   "execution_count": 10,
   "metadata": {},
   "outputs": [],
   "source": [
    "def extract_features(password) : \n",
    "    length = len(password)\n",
    "    upper = count_uppercase(password)\n",
    "    lower = count_lowercase(password)\n",
    "    digit = count_digit(password)\n",
    "    spe = count_special_char(password)\n",
    "    strength = def_strength(length, upper, lower, digit, spe)\n",
    "    return [password, length, upper, lower, digit, spe, strength]"
   ]
  },
  {
   "cell_type": "code",
   "execution_count": 11,
   "metadata": {},
   "outputs": [],
   "source": [
    "f = np.array([extract_features(pw) for pw in df_clean['password']])\n",
    "dff = pd.DataFrame(f, columns=['password', 'length', 'upper', 'lower', 'digit', 'spe', 'strength'])"
   ]
  },
  {
   "cell_type": "code",
   "execution_count": 12,
   "metadata": {},
   "outputs": [],
   "source": [
    "f2 = np.array([extract_features(pw) for pw in df2_clean['password']])\n",
    "dff2 = pd.DataFrame(f2, columns=['password', 'length', 'upper', 'lower', 'digit', 'spe', 'strength'])"
   ]
  },
  {
   "cell_type": "code",
   "execution_count": 13,
   "metadata": {},
   "outputs": [
    {
     "name": "stdout",
     "output_type": "stream",
     "text": [
      "       password length upper lower digit spe strength\n",
      "0      iloveyou      8     0     8     0   0        1\n",
      "1      princess      8     0     8     0   0        1\n",
      "2       rockyou      7     0     7     0   0        1\n",
      "3        abc123      6     0     3     3   0        2\n",
      "4        nicole      6     0     6     0   0        1\n",
      "...         ...    ...   ...   ...   ...  ..      ...\n",
      "9169    leandra      7     0     7     0   0        1\n",
      "9170     labeba      6     0     6     0   0        1\n",
      "9171  kittykat1      9     0     8     1   0        2\n",
      "9172     killah      6     0     6     0   0        1\n",
      "9173     kenjie      6     0     6     0   0        1\n",
      "\n",
      "[9174 rows x 7 columns]\n",
      "              password length upper lower digit spe strength\n",
      "0            sarahjane      9     0     9     0   0        1\n",
      "1               ceejay      6     0     6     0   0        1\n",
      "2            sweetbaby      9     0     9     0   0        1\n",
      "3            panthers1      9     0     8     1   0        2\n",
      "4            tangerine      9     0     9     0   0        1\n",
      "...                ...    ...   ...   ...   ...  ..      ...\n",
      "9342          #1action      8     0     6     1   1        3\n",
      "9343            #1$tax      6     0     3     1   2        3\n",
      "9344  princessmary1985     16     0    12     4   0        2\n",
      "9345        !whatever!     10     0     8     0   2        2\n",
      "9346         !(*&4life      9     0     4     1   4        3\n",
      "\n",
      "[9347 rows x 7 columns]\n"
     ]
    }
   ],
   "source": [
    "print(dff)\n",
    "print(dff2)"
   ]
  },
  {
   "cell_type": "code",
   "execution_count": 14,
   "metadata": {},
   "outputs": [
    {
     "name": "stdout",
     "output_type": "stream",
     "text": [
      "Accuracy: 1.00\n"
     ]
    }
   ],
   "source": [
    "# Split into features and labels\n",
    "X = dff[['length', 'upper', 'lower', 'digit', 'spe']].values\n",
    "y = dff['strength'].values\n",
    "\n",
    "# Train/test split\n",
    "X_train, X_test, y_train, y_test = train_test_split(X, y, test_size=0.2, random_state=42)\n",
    "\n",
    "# Standardize the data\n",
    "scaler = StandardScaler()\n",
    "X_train_scaled = scaler.fit_transform(X_train)\n",
    "X_test_scaled = scaler.transform(X_test)\n",
    "\n",
    "# Initialize and train the KNN model\n",
    "knn = KNeighborsClassifier(n_neighbors=5)\n",
    "knn.fit(X_train_scaled, y_train)\n",
    "\n",
    "# Make predictions and evaluate the model\n",
    "y_pred = knn.predict(X_test_scaled)\n",
    "accuracy = accuracy_score(y_test, y_pred)\n",
    "print(f'Accuracy: {accuracy:.2f}')"
   ]
  },
  {
   "cell_type": "code",
   "execution_count": 16,
   "metadata": {},
   "outputs": [
    {
     "data": {
      "text/plain": [
       "<Axes: >"
      ]
     },
     "execution_count": 16,
     "metadata": {},
     "output_type": "execute_result"
    },
    {
     "data": {
      "image/png": "[encoded data removed]",
      "text/plain": [
       "<Figure size 640x480 with 1 Axes>"
      ]
     },
     "metadata": {},
     "output_type": "display_data"
    }
   ],
   "source": [
    "dff['strength'].astype(int).plot()"
   ]
  },
  {
   "cell_type": "code",
   "execution_count": 17,
   "metadata": {},
   "outputs": [
    {
     "name": "stdout",
     "output_type": "stream",
     "text": [
      "Accuracy: 0.99\n"
     ]
    }
   ],
   "source": [
    "# Split into features and labels\n",
    "X2 = dff2[['length', 'upper', 'lower', 'digit', 'spe']].values\n",
    "y2 = dff2['strength'].values\n",
    "\n",
    "# Train/test split\n",
    "X2_train, X2_test, y2_train, y2_test = train_test_split(X2, y2, test_size=0.2, random_state=42)\n",
    "\n",
    "# Standardize the data\n",
    "scaler = StandardScaler()\n",
    "X2_train_scaled = scaler.fit_transform(X2_train)\n",
    "X2_test_scaled = scaler.transform(X2_test)\n",
    "\n",
    "# Initialize and train the KNN model\n",
    "knn = KNeighborsClassifier(n_neighbors=5)\n",
    "knn.fit(X2_train_scaled, y2_train)\n",
    "\n",
    "# Make predictions and evaluate the model\n",
    "y2_pred = knn.predict(X2_test_scaled)\n",
    "accuracy = accuracy_score(y2_test, y2_pred)\n",
    "print(f'Accuracy: {accuracy:.2f}')"
   ]
  },
  {
   "cell_type": "code",
   "execution_count": 18,
   "metadata": {},
   "outputs": [
    {
     "data": {
      "text/plain": [
       "<Axes: >"
      ]
     },
     "execution_count": 18,
     "metadata": {},
     "output_type": "execute_result"
    },
    {
     "data": {
      "image/png": "[encoded data removed]",
      "text/plain": [
       "<Figure size 640x480 with 1 Axes>"
      ]
     },
     "metadata": {},
     "output_type": "display_data"
    }
   ],
   "source": [
    "dff2['strength'].astype(int).plot()"
   ]
  },
  {
   "cell_type": "code",
   "execution_count": null,
   "metadata": {},
   "outputs": [],
   "source": []
  }
 ],
 "metadata": {
  "kernelspec": {
   "display_name": "Python 3",
   "language": "python",
   "name": "python3"
  },
  "language_info": {
   "codemirror_mode": {
    "name": "ipython",
    "version": 3
   },
   "file_extension": ".py",
   "mimetype": "text/x-python",
   "name": "python",
   "nbconvert_exporter": "python",
   "pygments_lexer": "ipython3",
   "version": "3.11.9"
  }
 },
 "nbformat": 4,
 "nbformat_minor": 2
}
