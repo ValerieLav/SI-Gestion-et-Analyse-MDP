{
 "cells": [
  {
   "cell_type": "markdown",
   "metadata": {},
   "source": [
    "# Gestion et Analyse de MdP"
   ]
  },
  {
   "cell_type": "code",
   "execution_count": 2,
   "metadata": {},
   "outputs": [],
   "source": [
    "import pandas as pd\n",
    "import numpy as np"
   ]
  },
  {
   "cell_type": "markdown",
   "metadata": {},
   "source": [
    "##### Nettoyage du dataset\n",
    "\n",
    "dataFrame : rockyou.txt\n",
    "- Supprimer les doublons\n",
    "- Supprimer les espaces en début et fin de caractère\n",
    "- Supprimer les caractères indésirables\n",
    "- Limite de 6 à 128 caractère dans les MdP\n",
    "- Supprimer les MdP manquants\n",
    "- Limite de caractère valide\n",
    "- Suppression de MdP triviaux\n"
   ]
  },
  {
   "cell_type": "code",
   "execution_count": 3,
   "metadata": {},
   "outputs": [
    {
     "name": "stdout",
     "output_type": "stream",
     "text": [
      "              password\n",
      "0               loopy1\n",
      "1               looper\n",
      "2               lola22\n",
      "3               lola11\n",
      "4         liveyourlife\n",
      "...                ...\n",
      "13646313        jupanu\n",
      "13646314    ciocolatax\n",
      "13646315      angelica\n",
      "13646316      markinho\n",
      "13646317     abygurl69\n",
      "\n",
      "[13646318 rows x 1 columns]\n"
     ]
    }
   ],
   "source": [
    "#Changement de dataset\n",
    "df = pd.read_csv(r'C:\\Users\\kajan\\vscode\\ProjetM1Python\\rockyou2.txt',\n",
    "                 on_bad_lines='skip',\n",
    "                 encoding='latin-1',)\n",
    "\n",
    "#Définir un nom de colonne\n",
    "df.columns = [\"password\"]\n",
    "\n",
    "#Suppresion des doublons\n",
    "df_clean = df.drop_duplicates()\n",
    "\n",
    "#Supprimer les espaces en début et fin de chaine\n",
    "df_clean.loc[:,'password'] = df_clean['password'].str.strip()\n",
    "\n",
    "#Remplacer les NaN par chaine vide\n",
    "df_clean.loc[:,'password'] = df_clean['password'].str.replace(r'[^\\w\\s]', '', regex=True)\n",
    "#df_clean.loc[:,'password'] = df_clean['password'].fillna('')\n",
    "\n",
    "#Filtrer les mdp de moins de 6 et au plus de 128 caractere\n",
    "df_clean = df_clean[df_clean['password'].str.len().between(6,128)]\n",
    "\n",
    "# Supprimer les mots de passe manquants\n",
    "df_clean = df_clean.dropna( subset=['password'])\n",
    "\n",
    "#Filtrer les caracter non autorisés\n",
    "invalides_chars = df_clean['password'].str.contains(r'[^a-zA-Z0-9!@#$%^&*()]')\n",
    "df_clean = df_clean[~invalides_chars]\n",
    "\n",
    "#Supprimer les mots de passe commun\n",
    "common_pwd = ['123456','password','admin','123456789', '1234567', '12345678']\n",
    "df_clean = df_clean[~df_clean['password'].isin(common_pwd)]\n",
    "\n",
    "df_clean = df_clean.reset_index(drop=True)\n",
    "\n",
    "#Afficher résultat\n",
    "print(df_clean)"
   ]
  },
  {
   "cell_type": "markdown",
   "metadata": {},
   "source": [
    "##### Fonction Count"
   ]
  },
  {
   "cell_type": "code",
   "execution_count": 1,
   "metadata": {},
   "outputs": [],
   "source": [
    "def count_uppercase(pwd) :\n",
    "    c = 0\n",
    "    for char in pwd :\n",
    "        if char.isupper() :\n",
    "            c += 1\n",
    "    return c\n",
    "\n",
    "def count_lowercase(pwd) :\n",
    "    c = 0\n",
    "    for char in pwd :\n",
    "        if char.islower() :\n",
    "            c += 1\n",
    "    return c\n",
    "\n",
    "def count_digit(pwd) :\n",
    "    c = 0\n",
    "    for char in pwd :\n",
    "        if char.isdigit() :\n",
    "            c += 1\n",
    "    return c\n",
    "\n",
    "def count_special_char(pwd) :\n",
    "    return len(pwd) - ( count_digit(pwd) + \n",
    "                       count_lowercase(pwd) + \n",
    "                       count_uppercase(pwd) )\n",
    "    \n"
   ]
  },
  {
   "cell_type": "code",
   "execution_count": 8,
   "metadata": {},
   "outputs": [
    {
     "name": "stdout",
     "output_type": "stream",
     "text": [
      "rihanna\n",
      "abc123\n",
      "7\n",
      "0\n",
      "7\n",
      "0\n",
      "0\n"
     ]
    }
   ],
   "source": [
    "print(df_clean['password'][1569])\n",
    "print(df_clean['password'][3])\n",
    "print(len(df_clean['password'][1569]))\n",
    "print(count_uppercase(df_clean['password'][1569]))\n",
    "print(count_lowercase(df_clean['password'][1569]))\n",
    "print(count_digit(df_clean['password'][1569]))\n",
    "print(count_digit(df_clean['password'][0]))"
   ]
  },
  {
   "cell_type": "code",
   "execution_count": 9,
   "metadata": {},
   "outputs": [
    {
     "name": "stdout",
     "output_type": "stream",
     "text": [
      "ciocolatax\n",
      "markinho\n",
      "0\n",
      "0\n"
     ]
    }
   ],
   "source": [
    "print(df_clean['password'][13696871])\n",
    "print(df_clean['password'][13696873])\n",
    "print(count_special_char(df_clean['password'][13696871]))\n",
    "print(count_special_char(df_clean['password'][13696873]))"
   ]
  },
  {
   "cell_type": "markdown",
   "metadata": {},
   "source": [
    "##### Modèle Supervisé"
   ]
  },
  {
   "cell_type": "code",
   "execution_count": 11,
   "metadata": {},
   "outputs": [],
   "source": [
    "from sklearn.neighbors import KNeighborsClassifier\n",
    "neigh = KNeighborsClassifier()"
   ]
  },
  {
   "cell_type": "code",
   "execution_count": null,
   "metadata": {},
   "outputs": [],
   "source": []
  }
 ],
 "metadata": {
  "kernelspec": {
   "display_name": "Python 3",
   "language": "python",
   "name": "python3"
  },
  "language_info": {
   "codemirror_mode": {
    "name": "ipython",
    "version": 3
   },
   "file_extension": ".py",
   "mimetype": "text/x-python",
   "name": "python",
   "nbconvert_exporter": "python",
   "pygments_lexer": "ipython3",
   "version": "3.11.9"
  }
 },
 "nbformat": 4,
 "nbformat_minor": 2
}
